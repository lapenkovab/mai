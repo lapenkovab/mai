{
 "cells": [
  {
   "cell_type": "code",
   "execution_count": 1,
   "id": "171fb10a",
   "metadata": {},
   "outputs": [],
   "source": [
    "import numpy as np\n",
    "import pandas as pd"
   ]
  },
  {
   "cell_type": "markdown",
   "id": "a825545d",
   "metadata": {},
   "source": [
    "**Считаем данные из файла**"
   ]
  },
  {
   "cell_type": "markdown",
   "id": "ae55226a",
   "metadata": {},
   "source": [
    "Номера строк - товары, номера столбцов - дни"
   ]
  },
  {
   "cell_type": "code",
   "execution_count": 2,
   "id": "bd489d06",
   "metadata": {},
   "outputs": [
    {
     "data": {
      "text/plain": [
       "pandas.core.frame.DataFrame"
      ]
     },
     "execution_count": 2,
     "metadata": {},
     "output_type": "execute_result"
    }
   ],
   "source": [
    "data = pd.read_table(\"products.txt\", sep='\\s+', engine='python', header=None)\n",
    "type(data)"
   ]
  },
  {
   "cell_type": "code",
   "execution_count": 3,
   "id": "ba61b0ea",
   "metadata": {},
   "outputs": [
    {
     "data": {
      "text/html": [
       "<div>\n",
       "<style scoped>\n",
       "    .dataframe tbody tr th:only-of-type {\n",
       "        vertical-align: middle;\n",
       "    }\n",
       "\n",
       "    .dataframe tbody tr th {\n",
       "        vertical-align: top;\n",
       "    }\n",
       "\n",
       "    .dataframe thead th {\n",
       "        text-align: right;\n",
       "    }\n",
       "</style>\n",
       "<table border=\"1\" class=\"dataframe\">\n",
       "  <thead>\n",
       "    <tr style=\"text-align: right;\">\n",
       "      <th></th>\n",
       "      <th>0</th>\n",
       "      <th>1</th>\n",
       "      <th>2</th>\n",
       "      <th>3</th>\n",
       "      <th>4</th>\n",
       "      <th>5</th>\n",
       "      <th>6</th>\n",
       "      <th>7</th>\n",
       "      <th>8</th>\n",
       "      <th>9</th>\n",
       "      <th>...</th>\n",
       "      <th>90</th>\n",
       "      <th>91</th>\n",
       "      <th>92</th>\n",
       "      <th>93</th>\n",
       "      <th>94</th>\n",
       "      <th>95</th>\n",
       "      <th>96</th>\n",
       "      <th>97</th>\n",
       "      <th>98</th>\n",
       "      <th>99</th>\n",
       "    </tr>\n",
       "  </thead>\n",
       "  <tbody>\n",
       "    <tr>\n",
       "      <th>0</th>\n",
       "      <td>20.0</td>\n",
       "      <td>13.0</td>\n",
       "      <td>15.0</td>\n",
       "      <td>26.0</td>\n",
       "      <td>18.54</td>\n",
       "      <td>20.35</td>\n",
       "      <td>20.49</td>\n",
       "      <td>20.80</td>\n",
       "      <td>20.37</td>\n",
       "      <td>20.58</td>\n",
       "      <td>...</td>\n",
       "      <td>26.05</td>\n",
       "      <td>26.17</td>\n",
       "      <td>26.32</td>\n",
       "      <td>26.35</td>\n",
       "      <td>26.57</td>\n",
       "      <td>26.56</td>\n",
       "      <td>26.64</td>\n",
       "      <td>26.72</td>\n",
       "      <td>26.85</td>\n",
       "      <td>26.94</td>\n",
       "    </tr>\n",
       "    <tr>\n",
       "      <th>1</th>\n",
       "      <td>21.0</td>\n",
       "      <td>10.0</td>\n",
       "      <td>13.0</td>\n",
       "      <td>16.0</td>\n",
       "      <td>13.73</td>\n",
       "      <td>12.37</td>\n",
       "      <td>11.99</td>\n",
       "      <td>11.63</td>\n",
       "      <td>10.87</td>\n",
       "      <td>10.31</td>\n",
       "      <td>...</td>\n",
       "      <td>1.68</td>\n",
       "      <td>1.79</td>\n",
       "      <td>1.80</td>\n",
       "      <td>10.70</td>\n",
       "      <td>1.64</td>\n",
       "      <td>1.78</td>\n",
       "      <td>1.67</td>\n",
       "      <td>1.78</td>\n",
       "      <td>1.85</td>\n",
       "      <td>1.71</td>\n",
       "    </tr>\n",
       "    <tr>\n",
       "      <th>2</th>\n",
       "      <td>39.0</td>\n",
       "      <td>13.0</td>\n",
       "      <td>29.0</td>\n",
       "      <td>27.0</td>\n",
       "      <td>27.25</td>\n",
       "      <td>24.90</td>\n",
       "      <td>26.77</td>\n",
       "      <td>26.65</td>\n",
       "      <td>26.71</td>\n",
       "      <td>26.38</td>\n",
       "      <td>...</td>\n",
       "      <td>32.38</td>\n",
       "      <td>32.41</td>\n",
       "      <td>32.51</td>\n",
       "      <td>32.58</td>\n",
       "      <td>32.56</td>\n",
       "      <td>32.80</td>\n",
       "      <td>32.83</td>\n",
       "      <td>32.91</td>\n",
       "      <td>33.08</td>\n",
       "      <td>33.15</td>\n",
       "    </tr>\n",
       "  </tbody>\n",
       "</table>\n",
       "<p>3 rows × 100 columns</p>\n",
       "</div>"
      ],
      "text/plain": [
       "     0     1     2     3      4      5      6      7      8      9   ...  \\\n",
       "0  20.0  13.0  15.0  26.0  18.54  20.35  20.49  20.80  20.37  20.58  ...   \n",
       "1  21.0  10.0  13.0  16.0  13.73  12.37  11.99  11.63  10.87  10.31  ...   \n",
       "2  39.0  13.0  29.0  27.0  27.25  24.90  26.77  26.65  26.71  26.38  ...   \n",
       "\n",
       "      90     91     92     93     94     95     96     97     98     99  \n",
       "0  26.05  26.17  26.32  26.35  26.57  26.56  26.64  26.72  26.85  26.94  \n",
       "1   1.68   1.79   1.80  10.70   1.64   1.78   1.67   1.78   1.85   1.71  \n",
       "2  32.38  32.41  32.51  32.58  32.56  32.80  32.83  32.91  33.08  33.15  \n",
       "\n",
       "[3 rows x 100 columns]"
      ]
     },
     "execution_count": 3,
     "metadata": {},
     "output_type": "execute_result"
    }
   ],
   "source": [
    "data.head()"
   ]
  },
  {
   "cell_type": "markdown",
   "id": "9b9503f7",
   "metadata": {},
   "source": [
    "**Удаляем \"выбросы\"**"
   ]
  },
  {
   "cell_type": "markdown",
   "id": "b7b558d3",
   "metadata": {},
   "source": [
    "Считаем средние продажи по каждому товару"
   ]
  },
  {
   "cell_type": "code",
   "execution_count": 4,
   "id": "a6b5d5e7",
   "metadata": {},
   "outputs": [
    {
     "data": {
      "text/plain": [
       "0    23.2486\n",
       "1     4.1562\n",
       "2    30.1224\n",
       "dtype: float64"
      ]
     },
     "execution_count": 4,
     "metadata": {},
     "output_type": "execute_result"
    }
   ],
   "source": [
    "data_mean = data.mean(1)\n",
    "data_mean"
   ]
  },
  {
   "cell_type": "markdown",
   "id": "227aa696",
   "metadata": {},
   "source": [
    "Заменяем все продажи, которые больше чем в 3 раза средних на средние"
   ]
  },
  {
   "cell_type": "code",
   "execution_count": 5,
   "id": "d58f9a4d",
   "metadata": {},
   "outputs": [
    {
     "ename": "SyntaxError",
     "evalue": "invalid syntax (<ipython-input-5-bea58f75b68b>, line 1)",
     "output_type": "error",
     "traceback": [
      "\u001b[1;36m  File \u001b[1;32m\"<ipython-input-5-bea58f75b68b>\"\u001b[1;36m, line \u001b[1;32m1\u001b[0m\n\u001b[1;33m    data[data. > 30] = 999\u001b[0m\n\u001b[1;37m               ^\u001b[0m\n\u001b[1;31mSyntaxError\u001b[0m\u001b[1;31m:\u001b[0m invalid syntax\n"
     ]
    }
   ],
   "source": [
    "data[data. > 30] = 999\n",
    "data"
   ]
  },
  {
   "cell_type": "markdown",
   "id": "980ecbd6",
   "metadata": {},
   "source": []
  }
 ],
 "metadata": {
  "kernelspec": {
   "display_name": "Python 3",
   "language": "python",
   "name": "python3"
  },
  "language_info": {
   "codemirror_mode": {
    "name": "ipython",
    "version": 3
   },
   "file_extension": ".py",
   "mimetype": "text/x-python",
   "name": "python",
   "nbconvert_exporter": "python",
   "pygments_lexer": "ipython3",
   "version": "3.8.8"
  }
 },
 "nbformat": 4,
 "nbformat_minor": 5
}
