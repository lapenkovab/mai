{
 "cells": [
  {
   "cell_type": "code",
   "execution_count": 1,
   "id": "577b7b16",
   "metadata": {},
   "outputs": [],
   "source": [
    "import numpy as np\n",
    "# import numpy.random as rand"
   ]
  },
  {
   "cell_type": "markdown",
   "id": "26f2db9b",
   "metadata": {},
   "source": [
    "**Сгенерируем массив из случайных чисел**"
   ]
  },
  {
   "cell_type": "code",
   "execution_count": 2,
   "id": "56bd7f7c",
   "metadata": {},
   "outputs": [
    {
     "data": {
      "text/plain": [
       "array([25, 79, 33, 45, 99, 46, 47, 91, 71, 45])"
      ]
     },
     "execution_count": 2,
     "metadata": {},
     "output_type": "execute_result"
    }
   ],
   "source": [
    "X = np.random.randint(0, 100, 10)\n",
    "X"
   ]
  },
  {
   "cell_type": "markdown",
   "id": "d0313ed3",
   "metadata": {},
   "source": [
    "**Заменим все числа большие 10 на -1**"
   ]
  },
  {
   "cell_type": "code",
   "execution_count": 3,
   "id": "fe44c725",
   "metadata": {},
   "outputs": [
    {
     "data": {
      "text/plain": [
       "array([-1, -1, -1, -1, -1, -1, -1, -1, -1, -1])"
      ]
     },
     "execution_count": 3,
     "metadata": {},
     "output_type": "execute_result"
    }
   ],
   "source": [
    "X[X > 10] = -1\n",
    "X"
   ]
  }
 ],
 "metadata": {
  "kernelspec": {
   "display_name": "Python 3",
   "language": "python",
   "name": "python3"
  },
  "language_info": {
   "codemirror_mode": {
    "name": "ipython",
    "version": 3
   },
   "file_extension": ".py",
   "mimetype": "text/x-python",
   "name": "python",
   "nbconvert_exporter": "python",
   "pygments_lexer": "ipython3",
   "version": "3.8.8"
  }
 },
 "nbformat": 4,
 "nbformat_minor": 5
}
