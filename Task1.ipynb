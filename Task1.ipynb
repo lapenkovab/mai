{
 "cells": [
  {
   "cell_type": "code",
   "execution_count": 1,
   "id": "0654f33b",
   "metadata": {},
   "outputs": [],
   "source": [
    "import numpy as np\n",
    "import pandas as pd"
   ]
  },
  {
   "cell_type": "markdown",
   "id": "83054a51",
   "metadata": {},
   "source": [
    "**Сгенерируем массив из случайных чисел**"
   ]
  },
  {
   "cell_type": "code",
   "execution_count": 2,
   "id": "7546deaa",
   "metadata": {},
   "outputs": [
    {
     "data": {
      "text/plain": [
       "array([[57, 55, 18, 70, 16],\n",
       "       [94, 72, 70,  7,  0],\n",
       "       [96, 39, 47, 81, 89],\n",
       "       [59, 92,  6, 30, 85],\n",
       "       [88, 31, 29, 77, 25]])"
      ]
     },
     "execution_count": 2,
     "metadata": {},
     "output_type": "execute_result"
    }
   ],
   "source": [
    "X = np.random.randint(0, 100, (5, 5))\n",
    "X"
   ]
  },
  {
   "cell_type": "markdown",
   "id": "62743ef9",
   "metadata": {},
   "source": [
    "**Получим минимумы в каждой строке**"
   ]
  },
  {
   "cell_type": "code",
   "execution_count": 3,
   "id": "09dd5f37",
   "metadata": {},
   "outputs": [
    {
     "data": {
      "text/plain": [
       "array([16,  0, 39,  6, 25])"
      ]
     },
     "execution_count": 3,
     "metadata": {},
     "output_type": "execute_result"
    }
   ],
   "source": [
    "X_min = X.min(1)\n",
    "X_min"
   ]
  },
  {
   "cell_type": "markdown",
   "id": "c2e362d9",
   "metadata": {},
   "source": [
    "**Получим максимум из полученных минимумов**"
   ]
  },
  {
   "cell_type": "code",
   "execution_count": 4,
   "id": "8db8e129",
   "metadata": {},
   "outputs": [],
   "source": [
    "X_min.max();"
   ]
  }
 ],
 "metadata": {
  "kernelspec": {
   "display_name": "Python 3",
   "language": "python",
   "name": "python3"
  },
  "language_info": {
   "codemirror_mode": {
    "name": "ipython",
    "version": 3
   },
   "file_extension": ".py",
   "mimetype": "text/x-python",
   "name": "python",
   "nbconvert_exporter": "python",
   "pygments_lexer": "ipython3",
   "version": "3.8.8"
  }
 },
 "nbformat": 4,
 "nbformat_minor": 5
}
